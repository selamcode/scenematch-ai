{
 "cells": [
  {
   "cell_type": "code",
   "execution_count": 58,
   "id": "58695ef3",
   "metadata": {},
   "outputs": [
    {
     "name": "stderr",
     "output_type": "stream",
     "text": [
      "84230.63s - pydevd: Sending message related to process being replaced timed-out after 5 seconds\n"
     ]
    },
    {
     "name": "stdout",
     "output_type": "stream",
     "text": [
      "Requirement already satisfied: pandas in ./venv/lib/python3.9/site-packages (2.3.0)\n",
      "Requirement already satisfied: numpy>=1.22.4 in ./venv/lib/python3.9/site-packages (from pandas) (2.0.2)\n",
      "Requirement already satisfied: python-dateutil>=2.8.2 in ./venv/lib/python3.9/site-packages (from pandas) (2.9.0.post0)\n",
      "Requirement already satisfied: pytz>=2020.1 in ./venv/lib/python3.9/site-packages (from pandas) (2025.2)\n",
      "Requirement already satisfied: tzdata>=2022.7 in ./venv/lib/python3.9/site-packages (from pandas) (2025.2)\n",
      "Requirement already satisfied: six>=1.5 in ./venv/lib/python3.9/site-packages (from python-dateutil>=2.8.2->pandas) (1.17.0)\n",
      "Note: you may need to restart the kernel to use updated packages.\n"
     ]
    },
    {
     "name": "stderr",
     "output_type": "stream",
     "text": [
      "84238.93s - pydevd: Sending message related to process being replaced timed-out after 5 seconds\n"
     ]
    },
    {
     "name": "stdout",
     "output_type": "stream",
     "text": [
      "Requirement already satisfied: dotenv in ./venv/lib/python3.9/site-packages (0.9.9)\n",
      "Requirement already satisfied: python-dotenv in ./venv/lib/python3.9/site-packages (from dotenv) (1.1.0)\n",
      "Note: you may need to restart the kernel to use updated packages.\n"
     ]
    }
   ],
   "source": [
    "%pip install pandas # to work with out data (load, clean, analyze)\n",
    "%pip install dotenv # to load out enviroment variabels"
   ]
  },
  {
   "cell_type": "code",
   "execution_count": 59,
   "id": "31de98f2",
   "metadata": {},
   "outputs": [],
   "source": [
    "# pip install pandas\n",
    "import os # we need this for getting env variables here\n",
    "import pandas as pd\n",
    "from  dotenv import load_dotenv \n",
    "load_dotenv()\n",
    "\n",
    "# load the csv file\n",
    "dataset_path = os.getenv(\"DATASET_PATH\")\n",
    "movies_df = pd.read_csv(dataset_path)"
   ]
  },
  {
   "cell_type": "code",
   "execution_count": 60,
   "id": "038ef78e",
   "metadata": {},
   "outputs": [
    {
     "data": {
      "text/plain": [
       "id                        int64\n",
       "title                    object\n",
       "vote_average            float64\n",
       "vote_count                int64\n",
       "status                   object\n",
       "release_date             object\n",
       "revenue                   int64\n",
       "runtime                   int64\n",
       "adult                      bool\n",
       "backdrop_path            object\n",
       "budget                    int64\n",
       "homepage                 object\n",
       "imdb_id                  object\n",
       "original_language        object\n",
       "original_title           object\n",
       "overview                 object\n",
       "popularity              float64\n",
       "poster_path              object\n",
       "tagline                  object\n",
       "genres                   object\n",
       "production_companies     object\n",
       "production_countries     object\n",
       "spoken_languages         object\n",
       "keywords                 object\n",
       "dtype: object"
      ]
     },
     "execution_count": 60,
     "metadata": {},
     "output_type": "execute_result"
    }
   ],
   "source": [
    "# show the top 5 rows\n",
    "movies_df.head(1)\n",
    "movies_df.dtypes"
   ]
  },
  {
   "cell_type": "code",
   "execution_count": 61,
   "id": "13411728",
   "metadata": {},
   "outputs": [
    {
     "data": {
      "text/html": [
       "<div>\n",
       "<style scoped>\n",
       "    .dataframe tbody tr th:only-of-type {\n",
       "        vertical-align: middle;\n",
       "    }\n",
       "\n",
       "    .dataframe tbody tr th {\n",
       "        vertical-align: top;\n",
       "    }\n",
       "\n",
       "    .dataframe thead th {\n",
       "        text-align: right;\n",
       "    }\n",
       "</style>\n",
       "<table border=\"1\" class=\"dataframe\">\n",
       "  <thead>\n",
       "    <tr style=\"text-align: right;\">\n",
       "      <th></th>\n",
       "      <th>id</th>\n",
       "      <th>title</th>\n",
       "      <th>overview</th>\n",
       "      <th>vote_average</th>\n",
       "      <th>tagline</th>\n",
       "      <th>genres</th>\n",
       "    </tr>\n",
       "  </thead>\n",
       "  <tbody>\n",
       "    <tr>\n",
       "      <th>0</th>\n",
       "      <td>27205</td>\n",
       "      <td>Inception</td>\n",
       "      <td>Cobb, a skilled thief who commits corporate es...</td>\n",
       "      <td>8.364</td>\n",
       "      <td>Your mind is the scene of the crime.</td>\n",
       "      <td>Action, Science Fiction, Adventure</td>\n",
       "    </tr>\n",
       "    <tr>\n",
       "      <th>1</th>\n",
       "      <td>157336</td>\n",
       "      <td>Interstellar</td>\n",
       "      <td>The adventures of a group of explorers who mak...</td>\n",
       "      <td>8.417</td>\n",
       "      <td>Mankind was born on Earth. It was never meant ...</td>\n",
       "      <td>Adventure, Drama, Science Fiction</td>\n",
       "    </tr>\n",
       "    <tr>\n",
       "      <th>2</th>\n",
       "      <td>155</td>\n",
       "      <td>The Dark Knight</td>\n",
       "      <td>Batman raises the stakes in his war on crime. ...</td>\n",
       "      <td>8.512</td>\n",
       "      <td>Welcome to a world without rules.</td>\n",
       "      <td>Drama, Action, Crime, Thriller</td>\n",
       "    </tr>\n",
       "    <tr>\n",
       "      <th>3</th>\n",
       "      <td>19995</td>\n",
       "      <td>Avatar</td>\n",
       "      <td>In the 22nd century, a paraplegic Marine is di...</td>\n",
       "      <td>7.573</td>\n",
       "      <td>Enter the world of Pandora.</td>\n",
       "      <td>Action, Adventure, Fantasy, Science Fiction</td>\n",
       "    </tr>\n",
       "    <tr>\n",
       "      <th>4</th>\n",
       "      <td>24428</td>\n",
       "      <td>The Avengers</td>\n",
       "      <td>When an unexpected enemy emerges and threatens...</td>\n",
       "      <td>7.710</td>\n",
       "      <td>Some assembly required.</td>\n",
       "      <td>Science Fiction, Action, Adventure</td>\n",
       "    </tr>\n",
       "  </tbody>\n",
       "</table>\n",
       "</div>"
      ],
      "text/plain": [
       "       id            title                                           overview  \\\n",
       "0   27205        Inception  Cobb, a skilled thief who commits corporate es...   \n",
       "1  157336     Interstellar  The adventures of a group of explorers who mak...   \n",
       "2     155  The Dark Knight  Batman raises the stakes in his war on crime. ...   \n",
       "3   19995           Avatar  In the 22nd century, a paraplegic Marine is di...   \n",
       "4   24428     The Avengers  When an unexpected enemy emerges and threatens...   \n",
       "\n",
       "   vote_average                                            tagline  \\\n",
       "0         8.364               Your mind is the scene of the crime.   \n",
       "1         8.417  Mankind was born on Earth. It was never meant ...   \n",
       "2         8.512                  Welcome to a world without rules.   \n",
       "3         7.573                        Enter the world of Pandora.   \n",
       "4         7.710                            Some assembly required.   \n",
       "\n",
       "                                        genres  \n",
       "0           Action, Science Fiction, Adventure  \n",
       "1            Adventure, Drama, Science Fiction  \n",
       "2               Drama, Action, Crime, Thriller  \n",
       "3  Action, Adventure, Fantasy, Science Fiction  \n",
       "4           Science Fiction, Action, Adventure  "
      ]
     },
     "execution_count": 61,
     "metadata": {},
     "output_type": "execute_result"
    }
   ],
   "source": [
    "# now I need the id,title, overview, tagline, genres\n",
    "selected_columns = [\"id\",\"title\",\"overview\",\"vote_average\",\"tagline\",\"genres\"]\n",
    "movies_df_filtered = movies_df[selected_columns]\n",
    "movies_df_filtered.head()\n"
   ]
  },
  {
   "cell_type": "code",
   "execution_count": 62,
   "id": "db4246a7",
   "metadata": {},
   "outputs": [
    {
     "name": "stdout",
     "output_type": "stream",
     "text": [
      "Cobb, a skilled thief who commits corporate espionage by infiltrating the subconscious of his targets is offered a chance to regain his old life as payment for a task considered to be impossible: \"inception\", the implantation of another person's idea into a target's subconscious.\n"
     ]
    }
   ],
   "source": [
    "movies_df.iloc[0,1]\n",
    "\n",
    "print(movies_df.loc[0, \"overview\"])\n"
   ]
  },
  {
   "cell_type": "markdown",
   "id": "fe6c63dc",
   "metadata": {},
   "source": [
    "### Before converting our data in to JSON format we need to clean the data.\n",
    "- Preview data\tdf.head(), df.info()\n",
    "- Remove unnecessary cols\t\n",
    "- Handle missing data\t\n",
    "- Fix types\t\n",
    "- Remove duplicates\t\n",
    "- Normalize values\t\n",
    "- Clean text\t\n",
    "- Verify\t\n",
    "- Save"
   ]
  },
  {
   "cell_type": "code",
   "execution_count": 63,
   "id": "1b825e65",
   "metadata": {},
   "outputs": [
    {
     "name": "stdout",
     "output_type": "stream",
     "text": [
      "<class 'pandas.core.frame.DataFrame'>\n",
      "RangeIndex: 1239509 entries, 0 to 1239508\n",
      "Data columns (total 6 columns):\n",
      " #   Column        Non-Null Count    Dtype  \n",
      "---  ------        --------------    -----  \n",
      " 0   id            1239509 non-null  int64  \n",
      " 1   title         1239496 non-null  object \n",
      " 2   overview      974585 non-null   object \n",
      " 3   vote_average  1239509 non-null  float64\n",
      " 4   tagline       173964 non-null   object \n",
      " 5   genres        722288 non-null   object \n",
      "dtypes: float64(1), int64(1), object(4)\n",
      "memory usage: 56.7+ MB\n"
     ]
    }
   ],
   "source": [
    "movies_df_filtered.info()\n"
   ]
  },
  {
   "cell_type": "markdown",
   "id": "e361d6ff",
   "metadata": {},
   "source": [
    "# Here’s what the info means in terms of nulls:\n",
    "\n",
    "id — no nulls (all 1,239,509 entries have an id)\n",
    "\n",
    "title — some nulls, since 1,239,496 < 1,239,509 (so about 13 missing)\n",
    "\n",
    "overview — lots of nulls, only 974,585 non-null out of 1,239,509 (so about 264,924 missing)\n",
    "\n",
    "vote_average - only 173964 avilable\n",
    "\n",
    "tagline — even more nulls, only 173,964 non-null (about 1,065,545 missing)\n",
    "\n",
    "genres — about half missing, 722,288 non-null (about 517,221 missing)\n",
    "\n"
   ]
  },
  {
   "cell_type": "code",
   "execution_count": 64,
   "id": "8c72e485",
   "metadata": {},
   "outputs": [
    {
     "name": "stdout",
     "output_type": "stream",
     "text": [
      "<class 'pandas.core.frame.DataFrame'>\n",
      "Index: 974585 entries, 0 to 1239507\n",
      "Data columns (total 6 columns):\n",
      " #   Column        Non-Null Count   Dtype  \n",
      "---  ------        --------------   -----  \n",
      " 0   id            974585 non-null  int64  \n",
      " 1   title         974585 non-null  object \n",
      " 2   overview      974585 non-null  object \n",
      " 3   vote_average  974585 non-null  float64\n",
      " 4   tagline       974585 non-null  object \n",
      " 5   genres        974585 non-null  object \n",
      "dtypes: float64(1), int64(1), object(4)\n",
      "memory usage: 52.0+ MB\n"
     ]
    }
   ],
   "source": [
    "# Drop rows missing overview (must-have)\n",
    "movies_df_filtered = movies_df_filtered.dropna(subset=['overview'])\n",
    "\n",
    "# Fill missing tagline with empty string (lower priority)\n",
    "movies_df_filtered['tagline'] = movies_df_filtered['tagline'].fillna('')\n",
    "\n",
    "# Fill missing genres with empty list or 'unknown'\n",
    "movies_df_filtered['genres'] = movies_df_filtered['genres'].fillna('unknown')\n",
    "\n",
    "# Optional: fill missing titles if any\n",
    "movies_df_filtered['title'] = movies_df_filtered['title'].fillna('Unknown Title')\n",
    "movies_df_filtered.info()"
   ]
  },
  {
   "cell_type": "code",
   "execution_count": 65,
   "id": "223fcf1f",
   "metadata": {},
   "outputs": [
    {
     "data": {
      "text/plain": [
       "0                   Action, Science Fiction, Adventure\n",
       "1                    Adventure, Drama, Science Fiction\n",
       "2                       Drama, Action, Crime, Thriller\n",
       "3          Action, Adventure, Fantasy, Science Fiction\n",
       "4                   Science Fiction, Action, Adventure\n",
       "                              ...                     \n",
       "1239499                                        unknown\n",
       "1239501                               Animation, Music\n",
       "1239502                                        unknown\n",
       "1239503                           Documentary, History\n",
       "1239507                                        unknown\n",
       "Name: genres, Length: 974585, dtype: object"
      ]
     },
     "execution_count": 65,
     "metadata": {},
     "output_type": "execute_result"
    }
   ],
   "source": [
    "movies_df_filtered[\"genres\"]\n"
   ]
  },
  {
   "cell_type": "code",
   "execution_count": 66,
   "id": "01bfd910",
   "metadata": {},
   "outputs": [
    {
     "data": {
      "text/plain": [
       "0                       Your mind is the scene of the crime.\n",
       "1          Mankind was born on Earth. It was never meant ...\n",
       "2                          Welcome to a world without rules.\n",
       "3                                Enter the world of Pandora.\n",
       "4                                    Some assembly required.\n",
       "                                 ...                        \n",
       "1239499                                                     \n",
       "1239501                                                     \n",
       "1239502                                                     \n",
       "1239503                                                     \n",
       "1239507                                                     \n",
       "Name: tagline, Length: 974585, dtype: object"
      ]
     },
     "execution_count": 66,
     "metadata": {},
     "output_type": "execute_result"
    }
   ],
   "source": [
    "movies_df_filtered[\"tagline\"]"
   ]
  },
  {
   "cell_type": "code",
   "execution_count": 67,
   "id": "ff9f16f4",
   "metadata": {},
   "outputs": [
    {
     "data": {
      "text/html": [
       "<div>\n",
       "<style scoped>\n",
       "    .dataframe tbody tr th:only-of-type {\n",
       "        vertical-align: middle;\n",
       "    }\n",
       "\n",
       "    .dataframe tbody tr th {\n",
       "        vertical-align: top;\n",
       "    }\n",
       "\n",
       "    .dataframe thead th {\n",
       "        text-align: right;\n",
       "    }\n",
       "</style>\n",
       "<table border=\"1\" class=\"dataframe\">\n",
       "  <thead>\n",
       "    <tr style=\"text-align: right;\">\n",
       "      <th></th>\n",
       "      <th>id</th>\n",
       "      <th>title</th>\n",
       "      <th>vote_average</th>\n",
       "      <th>vote_count</th>\n",
       "      <th>status</th>\n",
       "      <th>release_date</th>\n",
       "      <th>revenue</th>\n",
       "      <th>runtime</th>\n",
       "      <th>adult</th>\n",
       "      <th>backdrop_path</th>\n",
       "      <th>...</th>\n",
       "      <th>original_title</th>\n",
       "      <th>overview</th>\n",
       "      <th>popularity</th>\n",
       "      <th>poster_path</th>\n",
       "      <th>tagline</th>\n",
       "      <th>genres</th>\n",
       "      <th>production_companies</th>\n",
       "      <th>production_countries</th>\n",
       "      <th>spoken_languages</th>\n",
       "      <th>keywords</th>\n",
       "    </tr>\n",
       "  </thead>\n",
       "  <tbody>\n",
       "    <tr>\n",
       "      <th>0</th>\n",
       "      <td>27205</td>\n",
       "      <td>Inception</td>\n",
       "      <td>8.364</td>\n",
       "      <td>34495</td>\n",
       "      <td>Released</td>\n",
       "      <td>2010-07-15</td>\n",
       "      <td>825532764</td>\n",
       "      <td>148</td>\n",
       "      <td>False</td>\n",
       "      <td>/8ZTVqvKDQ8emSGUEMjsS4yHAwrp.jpg</td>\n",
       "      <td>...</td>\n",
       "      <td>Inception</td>\n",
       "      <td>Cobb, a skilled thief who commits corporate es...</td>\n",
       "      <td>83.952</td>\n",
       "      <td>/oYuLEt3zVCKq57qu2F8dT7NIa6f.jpg</td>\n",
       "      <td>Your mind is the scene of the crime.</td>\n",
       "      <td>Action, Science Fiction, Adventure</td>\n",
       "      <td>Legendary Pictures, Syncopy, Warner Bros. Pict...</td>\n",
       "      <td>United Kingdom, United States of America</td>\n",
       "      <td>English, French, Japanese, Swahili</td>\n",
       "      <td>rescue, mission, dream, airplane, paris, franc...</td>\n",
       "    </tr>\n",
       "  </tbody>\n",
       "</table>\n",
       "<p>1 rows × 24 columns</p>\n",
       "</div>"
      ],
      "text/plain": [
       "      id      title  vote_average  vote_count    status release_date  \\\n",
       "0  27205  Inception         8.364       34495  Released   2010-07-15   \n",
       "\n",
       "     revenue  runtime  adult                     backdrop_path  ...  \\\n",
       "0  825532764      148  False  /8ZTVqvKDQ8emSGUEMjsS4yHAwrp.jpg  ...   \n",
       "\n",
       "   original_title                                           overview  \\\n",
       "0       Inception  Cobb, a skilled thief who commits corporate es...   \n",
       "\n",
       "  popularity                       poster_path  \\\n",
       "0     83.952  /oYuLEt3zVCKq57qu2F8dT7NIa6f.jpg   \n",
       "\n",
       "                                tagline                              genres  \\\n",
       "0  Your mind is the scene of the crime.  Action, Science Fiction, Adventure   \n",
       "\n",
       "                                production_companies  \\\n",
       "0  Legendary Pictures, Syncopy, Warner Bros. Pict...   \n",
       "\n",
       "                       production_countries  \\\n",
       "0  United Kingdom, United States of America   \n",
       "\n",
       "                     spoken_languages  \\\n",
       "0  English, French, Japanese, Swahili   \n",
       "\n",
       "                                            keywords  \n",
       "0  rescue, mission, dream, airplane, paris, franc...  \n",
       "\n",
       "[1 rows x 24 columns]"
      ]
     },
     "execution_count": 67,
     "metadata": {},
     "output_type": "execute_result"
    }
   ],
   "source": [
    "movies_df.head(1)"
   ]
  },
  {
   "cell_type": "code",
   "execution_count": 68,
   "id": "2e9025a5",
   "metadata": {},
   "outputs": [
    {
     "data": {
      "text/html": [
       "<div>\n",
       "<style scoped>\n",
       "    .dataframe tbody tr th:only-of-type {\n",
       "        vertical-align: middle;\n",
       "    }\n",
       "\n",
       "    .dataframe tbody tr th {\n",
       "        vertical-align: top;\n",
       "    }\n",
       "\n",
       "    .dataframe thead th {\n",
       "        text-align: right;\n",
       "    }\n",
       "</style>\n",
       "<table border=\"1\" class=\"dataframe\">\n",
       "  <thead>\n",
       "    <tr style=\"text-align: right;\">\n",
       "      <th></th>\n",
       "      <th>id</th>\n",
       "      <th>title</th>\n",
       "      <th>overview</th>\n",
       "      <th>vote_average</th>\n",
       "      <th>tagline</th>\n",
       "      <th>genres</th>\n",
       "    </tr>\n",
       "  </thead>\n",
       "  <tbody>\n",
       "    <tr>\n",
       "      <th>0</th>\n",
       "      <td>27205</td>\n",
       "      <td>Inception</td>\n",
       "      <td>Cobb, a skilled thief who commits corporate es...</td>\n",
       "      <td>8.364</td>\n",
       "      <td>Your mind is the scene of the crime.</td>\n",
       "      <td>Action, Science Fiction, Adventure</td>\n",
       "    </tr>\n",
       "    <tr>\n",
       "      <th>1</th>\n",
       "      <td>157336</td>\n",
       "      <td>Interstellar</td>\n",
       "      <td>The adventures of a group of explorers who mak...</td>\n",
       "      <td>8.417</td>\n",
       "      <td>Mankind was born on Earth. It was never meant ...</td>\n",
       "      <td>Adventure, Drama, Science Fiction</td>\n",
       "    </tr>\n",
       "  </tbody>\n",
       "</table>\n",
       "</div>"
      ],
      "text/plain": [
       "       id         title                                           overview  \\\n",
       "0   27205     Inception  Cobb, a skilled thief who commits corporate es...   \n",
       "1  157336  Interstellar  The adventures of a group of explorers who mak...   \n",
       "\n",
       "   vote_average                                            tagline  \\\n",
       "0         8.364               Your mind is the scene of the crime.   \n",
       "1         8.417  Mankind was born on Earth. It was never meant ...   \n",
       "\n",
       "                               genres  \n",
       "0  Action, Science Fiction, Adventure  \n",
       "1   Adventure, Drama, Science Fiction  "
      ]
     },
     "execution_count": 68,
     "metadata": {},
     "output_type": "execute_result"
    }
   ],
   "source": [
    "movies_df_filtered.head(2)"
   ]
  },
  {
   "cell_type": "markdown",
   "id": "54589577",
   "metadata": {},
   "source": [
    "now our dataset is almost ready to be converted to JSON. Beofre that we need maek the *\"genre\"* column JSON compatible.\n",
    "\n",
    "we want [Action, Science Fiction, Adventure] to look like [\"Action\", \"Science\", \"Fiction\", \"Adventure\"] a list of str.\n",
    "\n"
   ]
  },
  {
   "cell_type": "code",
   "execution_count": 86,
   "id": "cc6144ed",
   "metadata": {},
   "outputs": [
    {
     "data": {
      "text/html": [
       "<div>\n",
       "<style scoped>\n",
       "    .dataframe tbody tr th:only-of-type {\n",
       "        vertical-align: middle;\n",
       "    }\n",
       "\n",
       "    .dataframe tbody tr th {\n",
       "        vertical-align: top;\n",
       "    }\n",
       "\n",
       "    .dataframe thead th {\n",
       "        text-align: right;\n",
       "    }\n",
       "</style>\n",
       "<table border=\"1\" class=\"dataframe\">\n",
       "  <thead>\n",
       "    <tr style=\"text-align: right;\">\n",
       "      <th></th>\n",
       "      <th>id</th>\n",
       "      <th>title</th>\n",
       "      <th>overview</th>\n",
       "      <th>vote_average</th>\n",
       "      <th>tagline</th>\n",
       "      <th>genres</th>\n",
       "    </tr>\n",
       "  </thead>\n",
       "  <tbody>\n",
       "    <tr>\n",
       "      <th>1239499</th>\n",
       "      <td>783579</td>\n",
       "      <td>A Sunburnt Summer</td>\n",
       "      <td>Teddy wakes up from a hangover. He doesn't fee...</td>\n",
       "      <td>0.0</td>\n",
       "      <td></td>\n",
       "      <td>[]</td>\n",
       "    </tr>\n",
       "    <tr>\n",
       "      <th>1239501</th>\n",
       "      <td>783581</td>\n",
       "      <td>The Stroke</td>\n",
       "      <td>The Stroke is a hand-drawn animation film that...</td>\n",
       "      <td>0.0</td>\n",
       "      <td></td>\n",
       "      <td>[]</td>\n",
       "    </tr>\n",
       "    <tr>\n",
       "      <th>1239502</th>\n",
       "      <td>783582</td>\n",
       "      <td>Landry: Hair Chronicles</td>\n",
       "      <td>Landry’s energy is contagious. Coming to the D...</td>\n",
       "      <td>0.0</td>\n",
       "      <td></td>\n",
       "      <td>[]</td>\n",
       "    </tr>\n",
       "    <tr>\n",
       "      <th>1239503</th>\n",
       "      <td>783584</td>\n",
       "      <td>On the Great War's menu: Food in the heart of ...</td>\n",
       "      <td>In August 1914, war was declared. Millions of ...</td>\n",
       "      <td>0.0</td>\n",
       "      <td></td>\n",
       "      <td>[]</td>\n",
       "    </tr>\n",
       "    <tr>\n",
       "      <th>1239507</th>\n",
       "      <td>783589</td>\n",
       "      <td>Transsexual Love Affair</td>\n",
       "      <td>Sometimes you want a little something on the s...</td>\n",
       "      <td>0.0</td>\n",
       "      <td></td>\n",
       "      <td>[]</td>\n",
       "    </tr>\n",
       "  </tbody>\n",
       "</table>\n",
       "</div>"
      ],
      "text/plain": [
       "             id                                              title  \\\n",
       "1239499  783579                                  A Sunburnt Summer   \n",
       "1239501  783581                                         The Stroke   \n",
       "1239502  783582                            Landry: Hair Chronicles   \n",
       "1239503  783584  On the Great War's menu: Food in the heart of ...   \n",
       "1239507  783589                            Transsexual Love Affair   \n",
       "\n",
       "                                                  overview  vote_average  \\\n",
       "1239499  Teddy wakes up from a hangover. He doesn't fee...           0.0   \n",
       "1239501  The Stroke is a hand-drawn animation film that...           0.0   \n",
       "1239502  Landry’s energy is contagious. Coming to the D...           0.0   \n",
       "1239503  In August 1914, war was declared. Millions of ...           0.0   \n",
       "1239507  Sometimes you want a little something on the s...           0.0   \n",
       "\n",
       "        tagline genres  \n",
       "1239499             []  \n",
       "1239501             []  \n",
       "1239502             []  \n",
       "1239503             []  \n",
       "1239507             []  "
      ]
     },
     "execution_count": 86,
     "metadata": {},
     "output_type": "execute_result"
    }
   ],
   "source": [
    "# split(',') methods remove the comma and make a list out of genre\n",
    "# The strip() method removes any leading, and trailing whitespaces \n",
    "\n",
    "def clean_genres(genres_str):\n",
    "    if isinstance(genres_str, str):\n",
    "        # For null or missing values, return empty list\n",
    "        if genres_str.lower() == \"unknown\" or not genres_str.strip():\n",
    "            return []\n",
    "        # Split by comma, strip spaces, and convert to lowercase\n",
    "        return [g.strip().lower() for g in genres_str.split(',')]\n",
    "    return []\n",
    "\n",
    "# Apply it to your dataframe\n",
    "movies_df_filtered['genres'] = movies_df_filtered['genres'].apply(clean_genres) \n",
    "movies_df_filtered.tail()    "
   ]
  },
  {
   "cell_type": "code",
   "execution_count": 91,
   "id": "7a8c90ba",
   "metadata": {},
   "outputs": [
    {
     "name": "stdout",
     "output_type": "stream",
     "text": [
      "<class 'pandas.core.series.Series'>\n",
      "Index: 974585 entries, 0 to 1239507\n",
      "Series name: genres\n",
      "Non-Null Count   Dtype \n",
      "--------------   ----- \n",
      "974585 non-null  object\n",
      "dtypes: object(1)\n",
      "memory usage: 14.9+ MB\n"
     ]
    }
   ],
   "source": [
    "movies_df_filtered[\"genres\"].info()"
   ]
  },
  {
   "cell_type": "markdown",
   "id": "e30f4b2f",
   "metadata": {},
   "source": [
    "# Before converting to JSON lets understand the relationship between JSON and Pthon\n",
    "\n",
    "- `JSON object` → Python dict (mapping from string keys to values)\n",
    "\n",
    "- `JSON array` → Python list\n",
    "\n",
    "- `JSON string` → Python str\n",
    "\n",
    "- `JSON numbe`r → Python int or float\n",
    "\n",
    "- `JSON boolean` → Python bool\n",
    "\n",
    "- `JSON null` → Python None"
   ]
  },
  {
   "cell_type": "markdown",
   "id": "84f8ced3",
   "metadata": {},
   "source": []
  },
  {
   "cell_type": "code",
   "execution_count": 87,
   "id": "348c19ec",
   "metadata": {},
   "outputs": [],
   "source": [
    "\n",
    "# Convert DataFrame rows to a list of dicts\n",
    "movies_json_list = movies_df_filtered.to_dict(orient='records')"
   ]
  },
  {
   "cell_type": "code",
   "execution_count": 88,
   "id": "b1306156",
   "metadata": {},
   "outputs": [
    {
     "data": {
      "text/plain": [
       "{'id': 42762,\n",
       " 'title': 'Hillsborough',\n",
       " 'overview': \"Drama based on the real life events of April 1989, when ninety-six Liverpool supporters were crushed to death during an F.A. Cup Semi-Final match against Nottingham Forest at Sheffield Wednesday's Hillsborough Stadium. This movie follows three Liverpudlian families before the match, during the tragedy and at the ensuing court battles which tried to decide who was to blame and what went wrong.\",\n",
       " 'vote_average': 7.1,\n",
       " 'tagline': '',\n",
       " 'genres': []}"
      ]
     },
     "execution_count": 88,
     "metadata": {},
     "output_type": "execute_result"
    }
   ],
   "source": [
    "movies_json_list[55555]"
   ]
  },
  {
   "cell_type": "code",
   "execution_count": null,
   "id": "97e356c4",
   "metadata": {},
   "outputs": [
    {
     "ename": "KeyboardInterrupt",
     "evalue": "",
     "output_type": "error",
     "traceback": [
      "\u001b[0;31m---------------------------------------------------------------------------\u001b[0m",
      "\u001b[0;31mKeyboardInterrupt\u001b[0m                         Traceback (most recent call last)",
      "Cell \u001b[0;32mIn[89], line 3\u001b[0m\n\u001b[1;32m      1\u001b[0m \u001b[38;5;28;01mimport\u001b[39;00m\u001b[38;5;250m \u001b[39m\u001b[38;5;21;01mjson\u001b[39;00m\n\u001b[1;32m      2\u001b[0m \u001b[38;5;28;01mwith\u001b[39;00m \u001b[38;5;28mopen\u001b[39m(\u001b[38;5;124m'\u001b[39m\u001b[38;5;124mmovies.json\u001b[39m\u001b[38;5;124m'\u001b[39m, \u001b[38;5;124m'\u001b[39m\u001b[38;5;124mw\u001b[39m\u001b[38;5;124m'\u001b[39m, encoding\u001b[38;5;241m=\u001b[39m\u001b[38;5;124m'\u001b[39m\u001b[38;5;124mutf-8\u001b[39m\u001b[38;5;124m'\u001b[39m) \u001b[38;5;28;01mas\u001b[39;00m f:\n\u001b[0;32m----> 3\u001b[0m     \u001b[43mjson\u001b[49m\u001b[38;5;241;43m.\u001b[39;49m\u001b[43mdump\u001b[49m\u001b[43m(\u001b[49m\u001b[43mmovies_json_list\u001b[49m\u001b[43m,\u001b[49m\u001b[43m \u001b[49m\u001b[43mf\u001b[49m\u001b[43m,\u001b[49m\u001b[43m \u001b[49m\u001b[43mensure_ascii\u001b[49m\u001b[38;5;241;43m=\u001b[39;49m\u001b[38;5;28;43;01mFalse\u001b[39;49;00m\u001b[43m,\u001b[49m\u001b[43m \u001b[49m\u001b[43mindent\u001b[49m\u001b[38;5;241;43m=\u001b[39;49m\u001b[38;5;241;43m2\u001b[39;49m\u001b[43m)\u001b[49m\n",
      "File \u001b[0;32m~/opt/anaconda3/lib/python3.9/json/__init__.py:180\u001b[0m, in \u001b[0;36mdump\u001b[0;34m(obj, fp, skipkeys, ensure_ascii, check_circular, allow_nan, cls, indent, separators, default, sort_keys, **kw)\u001b[0m\n\u001b[1;32m    177\u001b[0m \u001b[38;5;66;03m# could accelerate with writelines in some versions of Python, at\u001b[39;00m\n\u001b[1;32m    178\u001b[0m \u001b[38;5;66;03m# a debuggability cost\u001b[39;00m\n\u001b[1;32m    179\u001b[0m \u001b[38;5;28;01mfor\u001b[39;00m chunk \u001b[38;5;129;01min\u001b[39;00m iterable:\n\u001b[0;32m--> 180\u001b[0m     \u001b[43mfp\u001b[49m\u001b[38;5;241;43m.\u001b[39;49m\u001b[43mwrite\u001b[49m\u001b[43m(\u001b[49m\u001b[43mchunk\u001b[49m\u001b[43m)\u001b[49m\n",
      "\u001b[0;31mKeyboardInterrupt\u001b[0m: "
     ]
    }
   ],
   "source": [
    "''' import json\n",
    "with open('movies.json', 'w', encoding='utf-8') as f:\n",
    "    json.dump(movies_json_list, f, ensure_ascii=False, indent=2) '''\n"
   ]
  },
  {
   "cell_type": "code",
   "execution_count": null,
   "id": "a5dd1941",
   "metadata": {},
   "outputs": [],
   "source": []
  }
 ],
 "metadata": {
  "kernelspec": {
   "display_name": "venv",
   "language": "python",
   "name": "python3"
  },
  "language_info": {
   "codemirror_mode": {
    "name": "ipython",
    "version": 3
   },
   "file_extension": ".py",
   "mimetype": "text/x-python",
   "name": "python",
   "nbconvert_exporter": "python",
   "pygments_lexer": "ipython3",
   "version": "3.9.13"
  }
 },
 "nbformat": 4,
 "nbformat_minor": 5
}
